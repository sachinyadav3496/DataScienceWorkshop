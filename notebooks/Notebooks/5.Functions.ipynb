{
 "cells": [
  {
   "cell_type": "markdown",
   "metadata": {},
   "source": [
    "# What is a Function ? "
   ]
  },
  {
   "cell_type": "markdown",
   "metadata": {},
   "source": [
    "collection of statements to slove a specific task. is that correct ? "
   ]
  },
  {
   "cell_type": "markdown",
   "metadata": {},
   "source": [
    "# Why Functions are used not Statements ? "
   ]
  },
  {
   "cell_type": "markdown",
   "metadata": {},
   "source": [
    "Beause who just want to write same code again and again ? right\n",
    "so reuseability is the factor we use functions "
   ]
  },
  {
   "cell_type": "markdown",
   "metadata": {},
   "source": [
    "# How does a function really works ? "
   ]
  },
  {
   "cell_type": "markdown",
   "metadata": {},
   "source": [
    "1. Defination -> know what to do and how to do ?\n",
    "2. Calling -> Repeat Defination Whenever needed  ? \n",
    "3. Return -> Always get somthing whenever we call a function ? "
   ]
  },
  {
   "cell_type": "code",
   "execution_count": 1,
   "metadata": {
    "collapsed": true
   },
   "outputs": [],
   "source": [
    "def hello():\n",
    "    print(\"Hello World\")\n",
    "    "
   ]
  },
  {
   "cell_type": "code",
   "execution_count": 2,
   "metadata": {},
   "outputs": [
    {
     "name": "stdout",
     "output_type": "stream",
     "text": [
      "Hello World\n",
      "None\n",
      "None\n"
     ]
    }
   ],
   "source": [
    "r = hello()\n",
    "print(print(r))"
   ]
  },
  {
   "cell_type": "markdown",
   "metadata": {},
   "source": [
    "#### Function can return some <i>Value</i> also\n"
   ]
  },
  {
   "cell_type": "code",
   "execution_count": 1,
   "metadata": {},
   "outputs": [],
   "source": [
    "def hello():\n",
    "    return \"Hello World\""
   ]
  },
  {
   "cell_type": "code",
   "execution_count": 3,
   "metadata": {},
   "outputs": [
    {
     "name": "stdout",
     "output_type": "stream",
     "text": [
      "Hello World\n"
     ]
    }
   ],
   "source": [
    "msg = hello()\n",
    "print(msg)\n",
    "#print(hello())"
   ]
  },
  {
   "cell_type": "markdown",
   "metadata": {},
   "source": [
    "### Function can also take Information to Process \n",
    "\n",
    "ohh is that called parameter passing ?\n"
   ]
  },
  {
   "cell_type": "code",
   "execution_count": 6,
   "metadata": {},
   "outputs": [
    {
     "name": "stdout",
     "output_type": "stream",
     "text": [
      "Hello World !\n",
      "Welcome user,  sachin\n"
     ]
    },
    {
     "data": {
      "text/plain": [
       "False"
      ]
     },
     "execution_count": 6,
     "metadata": {},
     "output_type": "execute_result"
    }
   ],
   "source": [
    "def hello(name): # formal arguments or formal parameters\n",
    "    print(\"Hello World !\")\n",
    "    print(\"Welcome user, \",name)\n",
    "    return False #exit status\n",
    "\n",
    "\n",
    "hello('sachin')    "
   ]
  },
  {
   "cell_type": "code",
   "execution_count": 12,
   "metadata": {},
   "outputs": [
    {
     "name": "stdout",
     "output_type": "stream",
     "text": [
      "Enter your name : sachin yadav\n",
      "Hello World !\n",
      "Welcome user,  sachin yadav\n",
      "There is an error in function \n"
     ]
    }
   ],
   "source": [
    "if hello(input(\"Enter your name : \")) : \n",
    "         print(\"Function Sucessfully Exited\")\n",
    "else :\n",
    "         print(\"There is an error in function \")"
   ]
  },
  {
   "cell_type": "markdown",
   "metadata": {},
   "source": [
    "#### let's make function to do something ? \n",
    "\n",
    "why not find out a number is prime or not ? "
   ]
  },
  {
   "cell_type": "code",
   "execution_count": 7,
   "metadata": {},
   "outputs": [
    {
     "name": "stdout",
     "output_type": "stream",
     "text": [
      "False\n",
      "True\n"
     ]
    }
   ],
   "source": [
    "def prime(num):\n",
    "    from math import sqrt\n",
    "    check = round(sqrt(num)+1)\n",
    "    for ch in range(2,check):\n",
    "        if num % ch == 0 :\n",
    "            return False\n",
    "    return True\n",
    "\n",
    "print(prime(121))\n",
    "print(prime(127))"
   ]
  },
  {
   "cell_type": "code",
   "execution_count": 8,
   "metadata": {},
   "outputs": [],
   "source": [
    "def main():\n",
    "    num = int(input(\"Enter a Number : \"))\n",
    "    if prime(num) :\n",
    "        print(\"Given no. {} is a Prime Number \".format(num))\n",
    "    else : \n",
    "        print(\"Given no. {} is not a Prime Number \".format(num))"
   ]
  },
  {
   "cell_type": "code",
   "execution_count": 9,
   "metadata": {},
   "outputs": [
    {
     "name": "stdout",
     "output_type": "stream",
     "text": [
      "Enter a Number : 111\n",
      "Given no. 111 is not a Prime Number \n"
     ]
    }
   ],
   "source": [
    "main()"
   ]
  },
  {
   "cell_type": "code",
   "execution_count": 10,
   "metadata": {},
   "outputs": [
    {
     "data": {
      "text/plain": [
       "False"
      ]
     },
     "execution_count": 10,
     "metadata": {},
     "output_type": "execute_result"
    }
   ],
   "source": [
    "prime(1937811)"
   ]
  },
  {
   "cell_type": "code",
   "execution_count": 26,
   "metadata": {
    "collapsed": true
   },
   "outputs": [],
   "source": [
    "def prime_range(start,end):\n",
    "    c = 0\n",
    "    for var in range(start,end+1):\n",
    "        if prime(var):\n",
    "            print(var,end=', ')\n",
    "            c = c + 1\n",
    "    print(\"Total {} Prime Numbers in range({},{})\".format(c,start,end))\n",
    "    print()"
   ]
  },
  {
   "cell_type": "code",
   "execution_count": 29,
   "metadata": {},
   "outputs": [
    {
     "name": "stdout",
     "output_type": "stream",
     "text": [
      "Enter start,end point : 1100,1200\n",
      "1103, 1109, 1117, 1123, 1129, 1151, 1153, 1163, 1171, 1181, 1187, 1193, Total 12 Prime Numbers in range(1100,1200)\n",
      "\n"
     ]
    }
   ],
   "source": [
    "s,e = map(int,input(\"Enter start,end point : \").strip().split(','))\n",
    "prime_range(s,e)"
   ]
  },
  {
   "cell_type": "markdown",
   "metadata": {},
   "source": [
    "#### Default Arguments"
   ]
  },
  {
   "cell_type": "code",
   "execution_count": 11,
   "metadata": {},
   "outputs": [
    {
     "name": "stdout",
     "output_type": "stream",
     "text": [
      "A =  50\n",
      "B =  0\n",
      "C =  0\n"
     ]
    }
   ],
   "source": [
    "def fun(a,b=0,c=0) :\n",
    "    print(\"A = \",a)\n",
    "    print(\"B = \",b)\n",
    "    print(\"C = \",c)\n",
    "fun()"
   ]
  },
  {
   "cell_type": "code",
   "execution_count": 51,
   "metadata": {},
   "outputs": [
    {
     "name": "stdout",
     "output_type": "stream",
     "text": [
      "A =  22\n",
      "B =  -20\n",
      "C =  30\n"
     ]
    }
   ],
   "source": [
    "fun(c=30,b=-20,a=22) #keywords arguments"
   ]
  },
  {
   "cell_type": "code",
   "execution_count": 52,
   "metadata": {},
   "outputs": [
    {
     "name": "stdout",
     "output_type": "stream",
     "text": [
      "A =  14\n",
      "B =  4\n",
      "C =  0\n"
     ]
    }
   ],
   "source": [
    "fun(14,b=4)"
   ]
  },
  {
   "cell_type": "code",
   "execution_count": 59,
   "metadata": {},
   "outputs": [
    {
     "name": "stdout",
     "output_type": "stream",
     "text": [
      "A =  1\n",
      "B =  3\n",
      "C =  5\n"
     ]
    }
   ],
   "source": [
    "fun(1,b=3,c=5)"
   ]
  },
  {
   "cell_type": "markdown",
   "metadata": {},
   "source": [
    "#### What if i have so many arguments to pass ? \n",
    "\n",
    "Python has something Special for called multiple length arguments"
   ]
  },
  {
   "cell_type": "code",
   "execution_count": 12,
   "metadata": {},
   "outputs": [
    {
     "name": "stdout",
     "output_type": "stream",
     "text": [
      "2, 4, 24, 6, 24, 4, 52, 466, \n"
     ]
    }
   ],
   "source": [
    "def eve(*args):\n",
    "    for each_value in args : \n",
    "        if each_value % 2 == 0 : \n",
    "            print(each_value,end=', ')\n",
    "    print()\n",
    "eve(2,3,35,643,4,24,6,3,24,25,3,4,25,52,43,466,5)"
   ]
  },
  {
   "cell_type": "markdown",
   "metadata": {},
   "source": [
    "#### Do you remember what we called when a function call's itself ? \n",
    "\n",
    "<b> Recursion is that right ? </b>"
   ]
  },
  {
   "cell_type": "code",
   "execution_count": 13,
   "metadata": {},
   "outputs": [
    {
     "data": {
      "text/plain": [
       "120"
      ]
     },
     "execution_count": 13,
     "metadata": {},
     "output_type": "execute_result"
    }
   ],
   "source": [
    "def fact(num):\n",
    "    if num == 1 : \n",
    "        return num\n",
    "    return num*fact(num-1)\n",
    "\n",
    "fact(5)"
   ]
  },
  {
   "cell_type": "markdown",
   "metadata": {},
   "source": [
    "#### Another Example of Recursion "
   ]
  },
  {
   "cell_type": "code",
   "execution_count": 16,
   "metadata": {},
   "outputs": [
    {
     "data": {
      "text/plain": [
       "True"
      ]
     },
     "execution_count": 16,
     "metadata": {},
     "output_type": "execute_result"
    }
   ],
   "source": [
    "from math import sqrt\n",
    "def prime(num,c=2):\n",
    "    if c <= round(sqrt(num)) :\n",
    "        if num % c == 0 :\n",
    "            return False\n",
    "    else :\n",
    "        return True\n",
    "    return prime(num,c+1)\n",
    "prime(127)"
   ]
  },
  {
   "cell_type": "code",
   "execution_count": 17,
   "metadata": {},
   "outputs": [
    {
     "data": {
      "text/plain": [
       "False"
      ]
     },
     "execution_count": 17,
     "metadata": {},
     "output_type": "execute_result"
    }
   ],
   "source": [
    "prime(121)"
   ]
  },
  {
   "cell_type": "markdown",
   "metadata": {},
   "source": [
    "#### There are so many concepts left to tell you but time is the problem ? \n",
    "\n",
    "## Task to Do \n",
    "\n",
    "     Python has some special function like map, lambda, reduce, filter, decorators and closures go and find out about them you will be amaze :-)"
   ]
  },
  {
   "cell_type": "code",
   "execution_count": null,
   "metadata": {},
   "outputs": [],
   "source": []
  }
 ],
 "metadata": {
  "kernelspec": {
   "display_name": "Python 3",
   "language": "python",
   "name": "python3"
  },
  "language_info": {
   "codemirror_mode": {
    "name": "ipython",
    "version": 3
   },
   "file_extension": ".py",
   "mimetype": "text/x-python",
   "name": "python",
   "nbconvert_exporter": "python",
   "pygments_lexer": "ipython3",
   "version": "3.7.1"
  }
 },
 "nbformat": 4,
 "nbformat_minor": 2
}
