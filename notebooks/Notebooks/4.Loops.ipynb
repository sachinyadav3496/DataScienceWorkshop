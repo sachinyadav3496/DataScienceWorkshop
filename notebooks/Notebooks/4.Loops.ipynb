{
 "cells": [
  {
   "cell_type": "markdown",
   "metadata": {},
   "source": [
    "# Loops in Python"
   ]
  },
  {
   "cell_type": "markdown",
   "metadata": {},
   "source": [
    "1. While\n",
    "2. For"
   ]
  },
  {
   "cell_type": "markdown",
   "metadata": {},
   "source": [
    "#### Do you know infinity ? "
   ]
  },
  {
   "cell_type": "code",
   "execution_count": 1,
   "metadata": {
    "collapsed": true
   },
   "outputs": [],
   "source": [
    "while False :\n",
    "    print(\"Hello World\")"
   ]
  },
  {
   "cell_type": "code",
   "execution_count": 2,
   "metadata": {},
   "outputs": [
    {
     "name": "stdout",
     "output_type": "stream",
     "text": [
      "Hello World!\n",
      "Hello World!\n",
      "Hello World!\n",
      "Hello World!\n",
      "Hello World!\n",
      "Hello World!\n",
      "Hello World!\n",
      "Hello World!\n",
      "Hello World!\n",
      "Hello World!\n",
      "Python is Awesome\n"
     ]
    }
   ],
   "source": [
    "c = 1\n",
    "while c <= 10 :\n",
    "    print(\"Hello World!\")\n",
    "    c = c + 1\n",
    "print(\"Python is Awesome\")"
   ]
  },
  {
   "cell_type": "code",
   "execution_count": 4,
   "metadata": {},
   "outputs": [
    {
     "name": "stdout",
     "output_type": "stream",
     "text": [
      "1, 2, 3, 4, 5, 6, 7, 8, 9, 10, 11, 12, 13, 14, 15, 16, 17, 18, 19, 20, 21, 22, 23, 24, 25, 26, 27, 28, 29, 30, 31, 32, 33, 34, 35, 36, 37, 38, 39, 40, 41, 42, 43, 44, 45, 46, 47, 48, 49, 50, 51, 52, 53, 54, 55, 56, 57, 58, 59, 60, 61, 62, 63, 64, 65, 66, 67, 68, 69, 70, 71, 72, 73, 74, 75, 76, 77, 78, 79, 80, 81, 82, 83, 84, 85, 86, 87, 88, 89, 90, 91, 92, 93, 94, 95, 96, 97, 98, 99, 100, "
     ]
    }
   ],
   "source": [
    "c = 1\n",
    "while c <= 100 :\n",
    "    print(c,end=', ')\n",
    "    c = c + 1"
   ]
  },
  {
   "cell_type": "code",
   "execution_count": 8,
   "metadata": {},
   "outputs": [
    {
     "name": "stdout",
     "output_type": "stream",
     "text": [
      "Enter number : 5\n",
      "    5\tx    1\t=    5\n",
      "    5\tx    2\t=   10\n",
      "    5\tx    3\t=   15\n",
      "    5\tx    4\t=   20\n",
      "    5\tx    5\t=   25\n",
      "    5\tx    6\t=   30\n",
      "    5\tx    7\t=   35\n",
      "    5\tx    8\t=   40\n",
      "    5\tx    9\t=   45\n",
      "    5\tx   10\t=   50\n"
     ]
    }
   ],
   "source": [
    "num = int(input(\"Enter number : \"))\n",
    "c = 1\n",
    "while c <= 10 :\n",
    "    print(\"{:5}\\tx{:5}\\t={:5}\".format(num,c,num*c))\n",
    "    c = c + 1"
   ]
  },
  {
   "cell_type": "markdown",
   "metadata": {},
   "source": [
    "### Let's Play a Game "
   ]
  },
  {
   "cell_type": "code",
   "execution_count": 10,
   "metadata": {},
   "outputs": [
    {
     "name": "stdout",
     "output_type": "stream",
     "text": [
      "Player1: ········\n",
      "Player2: ········\n",
      "Player2 is the Winner\n",
      "Do want to continue (y/n) : y\n",
      "Player1: ········\n",
      "Player2: ········\n",
      "Player2 is the Winner\n",
      "Do want to continue (y/n) : y\n",
      "Player1: ········\n",
      "Player2: ········\n",
      "Player1 is the Winner\n",
      "Do want to continue (y/n) : n\n"
     ]
    }
   ],
   "source": [
    "p1 = [ ('r','s'),('p','r'),('s','p')]\n",
    "from getpass import getpass\n",
    "while True :\n",
    "    ch1 = getpass(\"Player1: \")\n",
    "    ch2 = getpass(\"Player2: \")\n",
    "    if ch1 == ch2 : \n",
    "        print(\"Match Tie\")\n",
    "    elif (ch1,ch2) in p1 :\n",
    "        print(\"Player1 is the Winner\")\n",
    "    else :\n",
    "        print(\"Player2 is the Winner\")\n",
    "    \n",
    "    ch = input(\"Do want to continue (y/n) : \").strip().lower()\n",
    "    if ch == 'y' or ch == 'yes' :\n",
    "        continue\n",
    "    else :\n",
    "        break"
   ]
  },
  {
   "cell_type": "markdown",
   "metadata": {},
   "source": [
    "#### Else is else Right"
   ]
  },
  {
   "cell_type": "code",
   "execution_count": null,
   "metadata": {},
   "outputs": [],
   "source": [
    "while input():\n",
    "    print(\"ha ha aha aha ha hah haha\")\n",
    "else : \n",
    "    print(\"How is the Josh ? \")"
   ]
  },
  {
   "cell_type": "markdown",
   "metadata": {},
   "source": [
    "#### Put a Break to break the rule ? \n"
   ]
  },
  {
   "cell_type": "code",
   "execution_count": null,
   "metadata": {},
   "outputs": [],
   "source": [
    "c = 1\n",
    "while c <= 10 : \n",
    "    if c == 5 : \n",
    "        break \n",
    "    print(f\"Hello world Times {c} \")\n",
    "    c = c + 1\n",
    "else :\n",
    "    print(\"Mera kya hoga kaliya ?\")"
   ]
  },
  {
   "cell_type": "markdown",
   "metadata": {},
   "source": [
    "#### Continue Like a Boss ? "
   ]
  },
  {
   "cell_type": "code",
   "execution_count": null,
   "metadata": {},
   "outputs": [],
   "source": [
    "c = 1\n",
    "while c <= 10 : \n",
    "    c = c + 1\n",
    "    if c % 2 :\n",
    "        continue \n",
    "    print(f\"Hello World Times {c}\")\n",
    "    \n",
    "else : \n",
    "    print(\"ha ha ha .... it's so easy \")"
   ]
  },
  {
   "cell_type": "markdown",
   "metadata": {},
   "source": [
    "## For Loop \n",
    "\n",
    "    Used to Iterate any Iterable Objects ( Compound Data Types )"
   ]
  },
  {
   "cell_type": "code",
   "execution_count": 5,
   "metadata": {},
   "outputs": [
    {
     "name": "stdout",
     "output_type": "stream",
     "text": [
      "P\n",
      "y\n",
      "t\n",
      "h\n",
      "o\n",
      "n\n"
     ]
    }
   ],
   "source": [
    "string = \"Python\" # it's a Sequence Right \n",
    "\n",
    "for char in string : \n",
    "    print(char)"
   ]
  },
  {
   "cell_type": "code",
   "execution_count": 6,
   "metadata": {},
   "outputs": [
    {
     "name": "stdout",
     "output_type": "stream",
     "text": [
      "java\n",
      "c\n",
      "c++\n",
      "R\n",
      "ruby\n",
      "perl\n",
      "python\n"
     ]
    }
   ],
   "source": [
    "mylist = [ 'java','c','c++','R','ruby','perl','python'] # again one more iterable\n",
    "for item in mylist : \n",
    "    print(item)"
   ]
  },
  {
   "cell_type": "markdown",
   "metadata": {},
   "source": [
    "#### Python has a range object that's awesome \n",
    "\n",
    "    range(10) --> 0,1,2,3,4,5,6,7,8,9 one less then last\n",
    "    range(10,15) --> 10,11,12,13,14\n",
    "    \n",
    "* for loop is alone without range "
   ]
  },
  {
   "cell_type": "code",
   "execution_count": 7,
   "metadata": {},
   "outputs": [
    {
     "name": "stdout",
     "output_type": "stream",
     "text": [
      "0\n",
      "1\n",
      "2\n",
      "3\n",
      "4\n",
      "5\n",
      "6\n",
      "7\n",
      "8\n",
      "9\n"
     ]
    }
   ],
   "source": [
    "for num in range(10):\n",
    "    print(num)"
   ]
  },
  {
   "cell_type": "code",
   "execution_count": 8,
   "metadata": {},
   "outputs": [
    {
     "name": "stdout",
     "output_type": "stream",
     "text": [
      "*\n",
      "**\n",
      "***\n",
      "****\n",
      "*****\n",
      "******\n",
      "*******\n",
      "********\n",
      "*********\n",
      "**********\n",
      "what what what ? \n",
      "It's so easy isn't it ? \n"
     ]
    }
   ],
   "source": [
    "for row in range(1,11): \n",
    "    print(\"*\"*row)\n",
    "else :\n",
    "    print(\"what what what ? \")\n",
    "    print(\"It's so easy isn't it ? \")"
   ]
  },
  {
   "cell_type": "markdown",
   "metadata": {},
   "source": [
    "#### Let's Break the for forcefully "
   ]
  },
  {
   "cell_type": "code",
   "execution_count": 10,
   "metadata": {},
   "outputs": [
    {
     "name": "stdout",
     "output_type": "stream",
     "text": [
      "1\n",
      "2\n",
      "3\n",
      "4\n",
      "5\n"
     ]
    }
   ],
   "source": [
    "for num in range(1,10):\n",
    "    print(num)\n",
    "    if num == 5 : \n",
    "        break \n",
    "else : \n",
    "    print(\"This is not fare you stopped the loop forcefully \")\n",
    "    print(\"Now I will not run \")"
   ]
  },
  {
   "cell_type": "markdown",
   "metadata": {},
   "source": [
    "#### Let's Continue for "
   ]
  },
  {
   "cell_type": "code",
   "execution_count": 11,
   "metadata": {},
   "outputs": [
    {
     "name": "stdout",
     "output_type": "stream",
     "text": [
      "This time the number is 1.\n",
      "This time the number is 3.\n",
      "This time the number is 5.\n",
      "This time the number is 7.\n",
      "This time the number is 9.\n",
      "It's Amazing \n",
      "Are you sleeping ? \n"
     ]
    }
   ],
   "source": [
    "for num in range(1,10): \n",
    "    if num % 2 == 0 : \n",
    "        continue \n",
    "    print(f\"This time the number is {num}.\")\n",
    "else : \n",
    "    print(\"It's Amazing \")\n",
    "    print(\"Are you sleeping ? \")\n",
    "    "
   ]
  },
  {
   "cell_type": "markdown",
   "metadata": {},
   "source": [
    "#### Let's Play Another Game "
   ]
  },
  {
   "cell_type": "markdown",
   "metadata": {},
   "source": [
    "#### Write a Code to Implement Guessing Game\n",
    "\n",
    "     each player has 5 life \n",
    "\n",
    "    Computer will guess a random number in range(1,50)\n",
    "\n",
    "     Now ask to guess the number which is guessed by computer \n",
    "\n",
    "     if user guess high print hint your guess is high \n",
    "    if user guess low print hint your guess is low\n",
    "     if user guess correct print Whola you have won the game\n",
    "\n",
    "     if user is unable to guess correct in 5 chances print you such a looser\n",
    "\n",
    "     note :- if user inputs a number other than in range(1,50) than print warningyour guess is out limit, please guess between 1 - 50 ( chances should not be reduced )\n",
    "\n",
    "\n"
   ]
  },
  {
   "cell_type": "code",
   "execution_count": null,
   "metadata": {
    "collapsed": true
   },
   "outputs": [],
   "source": []
  }
 ],
 "metadata": {
  "kernelspec": {
   "display_name": "Python 3",
   "language": "python",
   "name": "python3"
  },
  "language_info": {
   "codemirror_mode": {
    "name": "ipython",
    "version": 3
   },
   "file_extension": ".py",
   "mimetype": "text/x-python",
   "name": "python",
   "nbconvert_exporter": "python",
   "pygments_lexer": "ipython3",
   "version": "3.7.1"
  }
 },
 "nbformat": 4,
 "nbformat_minor": 2
}
