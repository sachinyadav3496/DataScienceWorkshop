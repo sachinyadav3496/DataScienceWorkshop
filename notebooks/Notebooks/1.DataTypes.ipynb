{
 "cells": [
  {
   "cell_type": "markdown",
   "metadata": {},
   "source": [
    "<h1 style='color:green' >Basic Data Types in Python</h1>"
   ]
  },
  {
   "cell_type": "markdown",
   "metadata": {},
   "source": [
    "![Title](data_type.png)"
   ]
  },
  {
   "cell_type": "markdown",
   "metadata": {},
   "source": [
    "1. Numbers\n",
    "2. Strings\n",
    "3. Lists\n",
    "4. Tuples\n",
    "5. Dictionary\n",
    "6. Sets\n",
    "7. Boolean"
   ]
  },
  {
   "cell_type": "code",
   "execution_count": 3,
   "metadata": {},
   "outputs": [
    {
     "name": "stdout",
     "output_type": "stream",
     "text": [
      "['__abs__', '__add__', '__and__', '__bool__', '__ceil__', '__class__', '__delattr__', '__dir__', '__divmod__', '__doc__', '__eq__', '__float__', '__floor__', '__floordiv__', '__format__', '__ge__', '__getattribute__', '__getnewargs__', '__gt__', '__hash__', '__index__', '__init__', '__init_subclass__', '__int__', '__invert__', '__le__', '__lshift__', '__lt__', '__mod__', '__mul__', '__ne__', '__neg__', '__new__', '__or__', '__pos__', '__pow__', '__radd__', '__rand__', '__rdivmod__', '__reduce__', '__reduce_ex__', '__repr__', '__rfloordiv__', '__rlshift__', '__rmod__', '__rmul__', '__ror__', '__round__', '__rpow__', '__rrshift__', '__rshift__', '__rsub__', '__rtruediv__', '__rxor__', '__setattr__', '__sizeof__', '__str__', '__sub__', '__subclasshook__', '__truediv__', '__trunc__', '__xor__', 'bit_length', 'conjugate', 'denominator', 'from_bytes', 'imag', 'numerator', 'real', 'to_bytes']\n"
     ]
    }
   ],
   "source": [
    "print(dir(x))"
   ]
  },
  {
   "cell_type": "code",
   "execution_count": 4,
   "metadata": {},
   "outputs": [
    {
     "name": "stdout",
     "output_type": "stream",
     "text": [
      "Help on built-in function bit_length:\n",
      "\n",
      "bit_length() method of builtins.int instance\n",
      "    Number of bits necessary to represent self in binary.\n",
      "    \n",
      "    >>> bin(37)\n",
      "    '0b100101'\n",
      "    >>> (37).bit_length()\n",
      "    6\n",
      "\n"
     ]
    }
   ],
   "source": [
    "help(x.bit_length)"
   ]
  },
  {
   "cell_type": "code",
   "execution_count": 1,
   "metadata": {},
   "outputs": [
    {
     "name": "stdout",
     "output_type": "stream",
     "text": [
      "<class 'int'>\n"
     ]
    }
   ],
   "source": [
    "x = 10 \n",
    "print(type(x))"
   ]
  },
  {
   "cell_type": "code",
   "execution_count": 5,
   "metadata": {},
   "outputs": [
    {
     "name": "stdout",
     "output_type": "stream",
     "text": [
      "Type of x =  <class 'int'>\n",
      "Type of y =  <class 'float'>\n",
      "Type of Z =  <class 'complex'>\n",
      "Value of X =  5\n",
      "Value of y =  6.25\n",
      "Value of z =  (6+5j)\n"
     ]
    }
   ],
   "source": [
    "#Numbers\n",
    "#Intergers\n",
    "x = 5 # the x is a container which will contain a integer number 5\n",
    "#let's pring type of x\n",
    "print(\"Type of x = \",type(x))\n",
    "#Floats\n",
    "y = 6.25 # Now y will a float type container which holds value 6.25\n",
    "#let's print type of y \n",
    "print(\"Type of y = \",type(y))\n",
    "#Complex\n",
    "z = 6+5j #here j denotes complex number and it will store in z\n",
    "#let's print type of Z\n",
    "print(\"Type of Z = \",type(z))\n",
    "#Now print all values\n",
    "print(\"Value of X = \",x)\n",
    "print(\"Value of y = \",y)\n",
    "print(\"Value of z = \",z)"
   ]
  },
  {
   "cell_type": "code",
   "execution_count": 6,
   "metadata": {},
   "outputs": [
    {
     "data": {
      "text/plain": [
       "(34+0j)"
      ]
     },
     "execution_count": 6,
     "metadata": {},
     "output_type": "execute_result"
    }
   ],
   "source": [
    "(3 + 5j) * (3 - 5j)"
   ]
  },
  {
   "cell_type": "code",
   "execution_count": 7,
   "metadata": {},
   "outputs": [
    {
     "name": "stdout",
     "output_type": "stream",
     "text": [
      "5\n",
      "6\n"
     ]
    }
   ],
   "source": [
    "x = 5 ; y = 6\n",
    "print(x) ; print(y)"
   ]
  },
  {
   "cell_type": "code",
   "execution_count": 2,
   "metadata": {},
   "outputs": [
    {
     "name": "stdout",
     "output_type": "stream",
     "text": [
      "<class 'str'>\n",
      "hi I am string.\n",
      "Hi I am also String.\n",
      "HI I am a Paragraph.\n",
      "                            You see have multiple lines.\n",
      "So you can write your paragraph.\n",
      "    As you wish in python.\n",
      "    \n",
      "                by Python Strings\n",
      "\n"
     ]
    }
   ],
   "source": [
    "#Strings -> String is group of or collection of charcters\n",
    "#By default python supports utf-8 charcter set\n",
    "s = 'hi I am string.' #string can be define in single quotes\n",
    "s1 = \"Hi I am also String.\" #or it can be in double quotes\n",
    "s3=\"\"\"HI I am a Paragraph.\n",
    "                            You see have multiple lines.\n",
    "So you can write your paragraph.\n",
    "    As you wish in python.\n",
    "    \n",
    "                by Python Strings\n",
    "\"\"\"\n",
    "print(type(s))\n",
    "print(s)\n",
    "print(s1)\n",
    "print(s3)"
   ]
  },
  {
   "cell_type": "code",
   "execution_count": 8,
   "metadata": {},
   "outputs": [
    {
     "name": "stdout",
     "output_type": "stream",
     "text": [
      "He said, \"She is Beautiful.\"\n"
     ]
    }
   ],
   "source": [
    "newstring = \"He said, \\\"She is Beautiful.\\\"\" #C way\n",
    "print(newstring)"
   ]
  },
  {
   "cell_type": "code",
   "execution_count": 9,
   "metadata": {},
   "outputs": [
    {
     "name": "stdout",
     "output_type": "stream",
     "text": [
      "He said, \"She is Beautiful.\"\n"
     ]
    }
   ],
   "source": [
    "newstring1 = 'He said, \"She is Beautiful.\"'\n",
    "print(newstring1)"
   ]
  },
  {
   "cell_type": "code",
   "execution_count": 10,
   "metadata": {},
   "outputs": [
    {
     "name": "stdout",
     "output_type": "stream",
     "text": [
      "Total Charcters in String s is  11\n"
     ]
    }
   ],
   "source": [
    "s = \"Hello world\"\n",
    "print(\"Total Charcters in String s is \",len(s))"
   ]
  },
  {
   "cell_type": "code",
   "execution_count": 11,
   "metadata": {},
   "outputs": [
    {
     "name": "stdout",
     "output_type": "stream",
     "text": [
      "w\n",
      "w\n"
     ]
    }
   ],
   "source": [
    "one_char = s[6]\n",
    "print(one_char)\n",
    "same_char = s[-5]\n",
    "print(same_char)"
   ]
  },
  {
   "cell_type": "code",
   "execution_count": 18,
   "metadata": {},
   "outputs": [
    {
     "name": "stdout",
     "output_type": "stream",
     "text": [
      "l ol\n"
     ]
    },
    {
     "data": {
      "text/plain": [
       "'drwolh'"
      ]
     },
     "execution_count": 18,
     "metadata": {},
     "output_type": "execute_result"
    }
   ],
   "source": [
    "s = \"hello world\"\n",
    "print(s[3:10:2])\n",
    "\n",
    "s[::-2]"
   ]
  },
  {
   "cell_type": "code",
   "execution_count": 7,
   "metadata": {},
   "outputs": [
    {
     "name": "stdout",
     "output_type": "stream",
     "text": [
      "Hello World\n",
      "World\n",
      "World\n"
     ]
    }
   ],
   "source": [
    "#slicing s[start:end:step]\n",
    "s = \"Hello World\"\n",
    "c = s[6:11]\n",
    "x = s[-5:]\n",
    "print(s)\n",
    "print(c)\n",
    "print(x)\n"
   ]
  },
  {
   "cell_type": "code",
   "execution_count": 8,
   "metadata": {},
   "outputs": [
    {
     "name": "stdout",
     "output_type": "stream",
     "text": [
      "dlroW olleH\n"
     ]
    }
   ],
   "source": [
    "y = s[::-1]\n",
    "print(y)"
   ]
  },
  {
   "cell_type": "code",
   "execution_count": 9,
   "metadata": {},
   "outputs": [
    {
     "name": "stdout",
     "output_type": "stream",
     "text": [
      "Hello Worl\n"
     ]
    }
   ],
   "source": [
    "z = s[:-1]\n",
    "print(z)"
   ]
  },
  {
   "cell_type": "code",
   "execution_count": 10,
   "metadata": {},
   "outputs": [
    {
     "name": "stdout",
     "output_type": "stream",
     "text": [
      "HloWrd\n"
     ]
    }
   ],
   "source": [
    "p = s[::2]\n",
    "print(p)"
   ]
  },
  {
   "cell_type": "code",
   "execution_count": 11,
   "metadata": {},
   "outputs": [
    {
     "name": "stdout",
     "output_type": "stream",
     "text": [
      "<class 'str'>\n"
     ]
    }
   ],
   "source": [
    "s = \"Hello Word\"\n",
    "print(type(s))"
   ]
  },
  {
   "cell_type": "code",
   "execution_count": 12,
   "metadata": {},
   "outputs": [
    {
     "name": "stdout",
     "output_type": "stream",
     "text": [
      "The Zen of Python, by Tim Peters\n",
      "\n",
      "Beautiful is better than ugly.\n",
      "Explicit is better than implicit.\n",
      "Simple is better than complex.\n",
      "Complex is better than complicated.\n",
      "Flat is better than nested.\n",
      "Sparse is better than dense.\n",
      "Readability counts.\n",
      "Special cases aren't special enough to break the rules.\n",
      "Although practicality beats purity.\n",
      "Errors should never pass silently.\n",
      "Unless explicitly silenced.\n",
      "In the face of ambiguity, refuse the temptation to guess.\n",
      "There should be one-- and preferably only one --obvious way to do it.\n",
      "Although that way may not be obvious at first unless you're Dutch.\n",
      "Now is better than never.\n",
      "Although never is often better than *right* now.\n",
      "If the implementation is hard to explain, it's a bad idea.\n",
      "If the implementation is easy to explain, it may be a good idea.\n",
      "Namespaces are one honking great idea -- let's do more of those!\n"
     ]
    }
   ],
   "source": [
    "import this"
   ]
  },
  {
   "cell_type": "code",
   "execution_count": 19,
   "metadata": {},
   "outputs": [
    {
     "name": "stdout",
     "output_type": "stream",
     "text": [
      "['__add__', '__class__', '__contains__', '__delattr__', '__dir__', '__doc__', '__eq__', '__format__', '__ge__', '__getattribute__', '__getitem__', '__getnewargs__', '__gt__', '__hash__', '__init__', '__init_subclass__', '__iter__', '__le__', '__len__', '__lt__', '__mod__', '__mul__', '__ne__', '__new__', '__reduce__', '__reduce_ex__', '__repr__', '__rmod__', '__rmul__', '__setattr__', '__sizeof__', '__str__', '__subclasshook__', 'capitalize', 'casefold', 'center', 'count', 'encode', 'endswith', 'expandtabs', 'find', 'format', 'format_map', 'index', 'isalnum', 'isalpha', 'isascii', 'isdecimal', 'isdigit', 'isidentifier', 'islower', 'isnumeric', 'isprintable', 'isspace', 'istitle', 'isupper', 'join', 'ljust', 'lower', 'lstrip', 'maketrans', 'partition', 'replace', 'rfind', 'rindex', 'rjust', 'rpartition', 'rsplit', 'rstrip', 'split', 'splitlines', 'startswith', 'strip', 'swapcase', 'title', 'translate', 'upper', 'zfill']\n"
     ]
    }
   ],
   "source": [
    "s = \"Hello World\"\n",
    "print(dir(s))"
   ]
  },
  {
   "cell_type": "code",
   "execution_count": 20,
   "metadata": {},
   "outputs": [
    {
     "name": "stdout",
     "output_type": "stream",
     "text": [
      "Return a centered string of length width.\n",
      "\n",
      "Padding is done using the specified fill character (default is a space).\n"
     ]
    }
   ],
   "source": [
    "# . is known as access specifier\n",
    "x = s.center.__doc__\n",
    "print(x)"
   ]
  },
  {
   "cell_type": "code",
   "execution_count": 22,
   "metadata": {},
   "outputs": [
    {
     "name": "stdout",
     "output_type": "stream",
     "text": [
      "#############################################################################################################################################################################################################################################################################Hello World##############################################################################################################################################################################################################################################################################\n"
     ]
    }
   ],
   "source": [
    "print(\"Hello World\".center(550,\"#\"))"
   ]
  },
  {
   "cell_type": "code",
   "execution_count": 21,
   "metadata": {},
   "outputs": [
    {
     "name": "stdout",
     "output_type": "stream",
     "text": [
      "-----------------------------------------------------------------------------------------------------------------------------------------------------------------------------------------------------------------------------------------------------------------------------Hello World------------------------------------------------------------------------------------------------------------------------------------------------------------------------------------------------------------------------------------------------------------------------------\n"
     ]
    }
   ],
   "source": [
    "y = s.center(550,'-')\n",
    "print(y)"
   ]
  },
  {
   "cell_type": "code",
   "execution_count": 23,
   "metadata": {},
   "outputs": [
    {
     "name": "stdout",
     "output_type": "stream",
     "text": [
      "s.upper() =  HELLO WORLD!!\n",
      "S.lower() =  hello world!!\n",
      "s.swapcase() =  hEllO wOrLd!!\n"
     ]
    }
   ],
   "source": [
    "s = \"HeLLo WoRlD!!\"\n",
    "u = s.upper()\n",
    "l = s.lower()\n",
    "k = s.swapcase()\n",
    "print(\"s.upper() = \",u)\n",
    "print(\"S.lower() = \",l)\n",
    "print(\"s.swapcase() = \",k)"
   ]
  },
  {
   "cell_type": "code",
   "execution_count": 24,
   "metadata": {},
   "outputs": [
    {
     "name": "stdout",
     "output_type": "stream",
     "text": [
      "String is  - '         HeLLo WoRLd!!        '\n",
      "After Strip String is - 'HeLLo WoRLd!!'\n",
      "After Lstrip String is - 'HeLLo WoRLd!!        '\n",
      "After Rstrip String is - '         HeLLo WoRLd!!'\n"
     ]
    }
   ],
   "source": [
    "s = \"         HeLLo WoRLd!!        \"\n",
    "k = s.strip() #both leading and trailing spaces removed\n",
    "l = s.lstrip() #remove leading spaces\n",
    "r = s.rstrip() #remove trailing spaces\n",
    "print(\"String is  - '{}'\".format(s))\n",
    "print(\"After Strip String is - '{}'\".format(k))\n",
    "print(\"After Lstrip String is - '{}'\".format(l))\n",
    "print(\"After Rstrip String is - '{}'\".format(r))"
   ]
  },
  {
   "cell_type": "markdown",
   "metadata": {},
   "source": [
    "<h1 style='color:gray' >List Data Type in Python</h1>"
   ]
  },
  {
   "cell_type": "markdown",
   "metadata": {},
   "source": [
    "list is a collection of homogenous or hetrogenous data elements.\n",
    "All arrays are list but all list are not arrays.\n"
   ]
  },
  {
   "cell_type": "code",
   "execution_count": 25,
   "metadata": {},
   "outputs": [
    {
     "name": "stdout",
     "output_type": "stream",
     "text": [
      "[34, 4, 542, 43, 2324, 63423, 2345, 432334]\n",
      "['Hello', 'World', 'Welcome', 'to', 'python', 'list']\n"
     ]
    }
   ],
   "source": [
    "mylist = [ 34, 4, 542, 43, 2324, 63423, 2345, 432334,] #list initlization\n",
    "#This is homogenous list can be called as interger array\n",
    "mylist1 = [ \"Hello\", \"World\",\"Welcome\",\"to\",\"python\",\"list\" ]\n",
    "#indexing, slicing\n",
    "print(mylist)\n",
    "print(mylist1)\n"
   ]
  },
  {
   "cell_type": "code",
   "execution_count": 26,
   "metadata": {},
   "outputs": [
    {
     "name": "stdout",
     "output_type": "stream",
     "text": [
      "63423\n",
      "6\n"
     ]
    }
   ],
   "source": [
    "s = mylist[5]\n",
    "print(s)\n",
    "print(len(mylist1))"
   ]
  },
  {
   "cell_type": "code",
   "execution_count": 27,
   "metadata": {},
   "outputs": [
    {
     "name": "stdout",
     "output_type": "stream",
     "text": [
      "['Welcome', 'to', 'python', 'list']\n"
     ]
    }
   ],
   "source": [
    "y  = mylist1[2:6]\n",
    "print(y)"
   ]
  },
  {
   "cell_type": "code",
   "execution_count": 28,
   "metadata": {},
   "outputs": [
    {
     "name": "stdout",
     "output_type": "stream",
     "text": [
      "['Hello', 'World', 'Welcome']\n"
     ]
    }
   ],
   "source": [
    "x = mylist1[:3]\n",
    "print(x)"
   ]
  },
  {
   "cell_type": "code",
   "execution_count": 29,
   "metadata": {},
   "outputs": [
    {
     "name": "stdout",
     "output_type": "stream",
     "text": [
      "[9, 8, 7, 6, 5, 4, 3, 2, 1]\n"
     ]
    }
   ],
   "source": [
    "l = [ 1,2,3,4,5,6,7,8,9]\n",
    "r = l[::-1]\n",
    "print(r)"
   ]
  },
  {
   "cell_type": "code",
   "execution_count": 30,
   "metadata": {},
   "outputs": [
    {
     "name": "stdout",
     "output_type": "stream",
     "text": [
      "5\n"
     ]
    }
   ],
   "source": [
    "d2 = [\n",
    "    [1,2,3],\n",
    "    [4,5,6],\n",
    "    [7,8,9],\n",
    "]\n",
    "print(d2[1][1])\n"
   ]
  },
  {
   "cell_type": "code",
   "execution_count": 31,
   "metadata": {},
   "outputs": [
    {
     "name": "stdout",
     "output_type": "stream",
     "text": [
      "['__add__', '__class__', '__contains__', '__delattr__', '__delitem__', '__dir__', '__doc__', '__eq__', '__format__', '__ge__', '__getattribute__', '__getitem__', '__gt__', '__hash__', '__iadd__', '__imul__', '__init__', '__init_subclass__', '__iter__', '__le__', '__len__', '__lt__', '__mul__', '__ne__', '__new__', '__reduce__', '__reduce_ex__', '__repr__', '__reversed__', '__rmul__', '__setattr__', '__setitem__', '__sizeof__', '__str__', '__subclasshook__', 'append', 'clear', 'copy', 'count', 'extend', 'index', 'insert', 'pop', 'remove', 'reverse', 'sort']\n"
     ]
    }
   ],
   "source": [
    "print(dir(l))"
   ]
  },
  {
   "cell_type": "markdown",
   "metadata": {},
   "source": [
    "Built-in Functions to add items in list\n",
    "1. mylist.append(item)\n",
    "2. mylist.insert(index,item)\n",
    "3. mylist.extend(seq)"
   ]
  },
  {
   "cell_type": "code",
   "execution_count": 32,
   "metadata": {},
   "outputs": [
    {
     "name": "stdout",
     "output_type": "stream",
     "text": [
      "['hello', 1, 2, 3.14]\n",
      "['hello', 1, 2, 3.14, 5, 'world', [1, 2, 3, 4, 5, 6]]\n"
     ]
    }
   ],
   "source": [
    "#mylist.append(item) -> it will add item into list mylist at the end\n",
    "mylist = [ 'hello',1,2,3.14,]\n",
    "print(mylist)\n",
    "mylist.append(5)\n",
    "mylist.append('world')\n",
    "mylist.append([1,2,3,4,5,6])\n",
    "print(mylist)"
   ]
  },
  {
   "cell_type": "markdown",
   "metadata": {},
   "source": [
    "Built-in List Function to remove a item for list mylist\n",
    "1. mylist.pop() -> will las element from list ( opposite of append) and return deleted item\n",
    "2. mylist.pop(index) -> will delete item from mylist which position at index no index\n",
    "3. mylist.remove(item) -> will search occurence of item and delet first occurence of item from list"
   ]
  },
  {
   "cell_type": "code",
   "execution_count": 35,
   "metadata": {},
   "outputs": [
    {
     "name": "stdout",
     "output_type": "stream",
     "text": [
      "[1, 2, 3, 4, 5, 6, 7, 8, 9, 10]\n",
      "Item1  10\n",
      "Item2  9\n",
      "Item3  1\n",
      "Item4  6\n",
      "[2, 3, 4, 5, 7, 8]\n"
     ]
    }
   ],
   "source": [
    "l = [ 1,2,3,4,5,6,7,8,9,10]\n",
    "print(l)\n",
    "item1 = l.pop()\n",
    "item2 = l.pop()\n",
    "item3 = l.pop(0)\n",
    "item4 = l.pop(4)\n",
    "print(\"Item1 \",item1)\n",
    "print(\"Item2 \",item2)\n",
    "print(\"Item3 \",item3)\n",
    "print(\"Item4 \",item4)\n",
    "print(l)"
   ]
  },
  {
   "cell_type": "code",
   "execution_count": 33,
   "metadata": {},
   "outputs": [
    {
     "name": "stdout",
     "output_type": "stream",
     "text": [
      "['hello', 1, 2, 3, 75, 'java']\n",
      "['hello', 1, 2, 3, 'java']\n"
     ]
    }
   ],
   "source": [
    "#remove\n",
    "l = [ \"hello\",1,2,3,\"python\",75,\"java\"]\n",
    "l.remove(\"python\")\n",
    "print(l)\n",
    "l.remove(75)\n",
    "print(l)"
   ]
  },
  {
   "cell_type": "markdown",
   "metadata": {},
   "source": [
    "other function of list sort, reverse, index, clear"
   ]
  },
  {
   "cell_type": "code",
   "execution_count": 34,
   "metadata": {},
   "outputs": [
    {
     "name": "stdout",
     "output_type": "stream",
     "text": [
      "[1, 5, 23, 34, 46, 53, 231, 432]\n",
      "[432, 231, 53, 46, 34, 23, 5, 1]\n",
      "['abc', 'good to go', 'hello', \"let's see\", 'what happens']\n",
      "['what happens', \"let's see\", 'hello', 'good to go', 'abc']\n"
     ]
    }
   ],
   "source": [
    "l = [ 23,34,231,1,5,46,53,432]\n",
    "l.sort()\n",
    "print(l)\n",
    "l.sort(reverse=True)\n",
    "print(l)\n",
    "l = [ \"hello\",\"abc\",\"good to go\",\"let's see\",\"what happens\"]\n",
    "l.sort()\n",
    "print(l)\n",
    "l.sort(reverse=True)\n",
    "print(l)"
   ]
  },
  {
   "cell_type": "code",
   "execution_count": 35,
   "metadata": {},
   "outputs": [
    {
     "name": "stdout",
     "output_type": "stream",
     "text": [
      "['bye bye', 'bye', 'hi', 'hello']\n",
      "['bye', 'bye bye', 'hello', 'hi']\n",
      "[]\n"
     ]
    }
   ],
   "source": [
    "l = [ \"hello\",\"hi\",\"bye\",\"bye bye\"]\n",
    "l.reverse()\n",
    "print(l)\n",
    "l.sort()\n",
    "print(l)\n",
    "l.clear()\n",
    "print(l)"
   ]
  },
  {
   "cell_type": "markdown",
   "metadata": {},
   "source": [
    "Tuple is immmutable data type "
   ]
  },
  {
   "cell_type": "code",
   "execution_count": 36,
   "metadata": {},
   "outputs": [
    {
     "name": "stdout",
     "output_type": "stream",
     "text": [
      "<class 'tuple'>\n",
      "['__add__', '__class__', '__contains__', '__delattr__', '__dir__', '__doc__', '__eq__', '__format__', '__ge__', '__getattribute__', '__getitem__', '__getnewargs__', '__gt__', '__hash__', '__init__', '__init_subclass__', '__iter__', '__le__', '__len__', '__lt__', '__mul__', '__ne__', '__new__', '__reduce__', '__reduce_ex__', '__repr__', '__rmul__', '__setattr__', '__sizeof__', '__str__', '__subclasshook__', 'count', 'index']\n"
     ]
    }
   ],
   "source": [
    "k = ( 1,2,3,'hello','hi')\n",
    "print(type(k))\n",
    "print(dir(k))"
   ]
  },
  {
   "cell_type": "markdown",
   "metadata": {},
   "source": [
    "# Dictionaries "
   ]
  },
  {
   "cell_type": "code",
   "execution_count": 40,
   "metadata": {},
   "outputs": [
    {
     "name": "stdout",
     "output_type": "stream",
     "text": [
      "<class 'dict'>\n",
      "{'key': 'value', 'name': 'python', 'year': 1991, 'frame works': ['Django', 'Flask', 'Web2py']}\n",
      "['__class__', '__contains__', '__delattr__', '__delitem__', '__dir__', '__doc__', '__eq__', '__format__', '__ge__', '__getattribute__', '__getitem__', '__gt__', '__hash__', '__init__', '__init_subclass__', '__iter__', '__le__', '__len__', '__lt__', '__ne__', '__new__', '__reduce__', '__reduce_ex__', '__repr__', '__setattr__', '__setitem__', '__sizeof__', '__str__', '__subclasshook__', 'clear', 'copy', 'fromkeys', 'get', 'items', 'keys', 'pop', 'popitem', 'setdefault', 'update', 'values']\n"
     ]
    }
   ],
   "source": [
    "mydict = {\n",
    "    'key':'value',\n",
    "    'name':'python',\n",
    "    'year':1991,\n",
    "    'frame works':['Django','Flask','Web2py']\n",
    "}\n",
    "print(type(mydict))\n",
    "print(mydict)\n",
    "print(dir(mydict))"
   ]
  },
  {
   "cell_type": "code",
   "execution_count": 37,
   "metadata": {},
   "outputs": [
    {
     "name": "stdout",
     "output_type": "stream",
     "text": [
      "['__class__', '__contains__', '__delattr__', '__delitem__', '__dir__', '__doc__', '__eq__', '__format__', '__ge__', '__getattribute__', '__getitem__', '__gt__', '__hash__', '__init__', '__init_subclass__', '__iter__', '__le__', '__len__', '__lt__', '__ne__', '__new__', '__reduce__', '__reduce_ex__', '__repr__', '__setattr__', '__setitem__', '__sizeof__', '__str__', '__subclasshook__', 'clear', 'copy', 'fromkeys', 'get', 'items', 'keys', 'pop', 'popitem', 'setdefault', 'update', 'values']\n",
      "{'name': 'hari', 'age': 21, 'language': 'hindi', 'skills': ['linux', 'python', 'r', 'sql'], 'country': 'india'}\n"
     ]
    }
   ],
   "source": [
    "info = { \n",
    "        'name':'hari',\n",
    "        'age' : 21,\n",
    "        'language': 'hindi',\n",
    "        'skills' : ['linux','python','r','sql'],\n",
    "        'country' : 'india'\n",
    "        }\n",
    "print(dir(info))\n",
    "print(info)"
   ]
  },
  {
   "cell_type": "code",
   "execution_count": 38,
   "metadata": {},
   "outputs": [
    {
     "name": "stdout",
     "output_type": "stream",
     "text": [
      "Name =  hari\n",
      "skils =  ['linux', 'python', 'r', 'sql']\n"
     ]
    }
   ],
   "source": [
    "print(\"Name = \",info['name'])\n",
    "print(\"skils = \",info['skills'])"
   ]
  },
  {
   "cell_type": "code",
   "execution_count": 39,
   "metadata": {},
   "outputs": [
    {
     "name": "stdout",
     "output_type": "stream",
     "text": [
      "hari\n",
      "python\n"
     ]
    }
   ],
   "source": [
    "print(info['name'])\n",
    "info['name'] = 'python'\n",
    "print(info['name'])"
   ]
  },
  {
   "cell_type": "code",
   "execution_count": 40,
   "metadata": {},
   "outputs": [
    {
     "name": "stdout",
     "output_type": "stream",
     "text": [
      "{'name': 'python', 'age': 21, 'language': 'hindi', 'skills': ['linux', 'python', 'r', 'sql'], 'country': 'india', 'address': 'jaipur'}\n"
     ]
    }
   ],
   "source": [
    "info['address'] = 'jaipur'\n",
    "print(info)"
   ]
  },
  {
   "cell_type": "code",
   "execution_count": 41,
   "metadata": {},
   "outputs": [
    {
     "name": "stdout",
     "output_type": "stream",
     "text": [
      "name age language skills country address\n"
     ]
    }
   ],
   "source": [
    "print(*info)"
   ]
  },
  {
   "cell_type": "code",
   "execution_count": 42,
   "metadata": {},
   "outputs": [
    {
     "name": "stdout",
     "output_type": "stream",
     "text": [
      "['__class__', '__contains__', '__delattr__', '__delitem__', '__dir__', '__doc__', '__eq__', '__format__', '__ge__', '__getattribute__', '__getitem__', '__gt__', '__hash__', '__init__', '__init_subclass__', '__iter__', '__le__', '__len__', '__lt__', '__ne__', '__new__', '__reduce__', '__reduce_ex__', '__repr__', '__setattr__', '__setitem__', '__sizeof__', '__str__', '__subclasshook__', 'clear', 'copy', 'fromkeys', 'get', 'items', 'keys', 'pop', 'popitem', 'setdefault', 'update', 'values']\n"
     ]
    }
   ],
   "source": [
    "print(dir(info))"
   ]
  },
  {
   "cell_type": "code",
   "execution_count": 43,
   "metadata": {},
   "outputs": [
    {
     "name": "stdout",
     "output_type": "stream",
     "text": [
      "python\n"
     ]
    }
   ],
   "source": [
    "x = info.get('name')\n",
    "print(x)"
   ]
  },
  {
   "cell_type": "code",
   "execution_count": 44,
   "metadata": {},
   "outputs": [
    {
     "name": "stdout",
     "output_type": "stream",
     "text": [
      "None\n"
     ]
    }
   ],
   "source": [
    "y = info.get('shorcut')\n",
    "print(y)"
   ]
  },
  {
   "cell_type": "code",
   "execution_count": 11,
   "metadata": {},
   "outputs": [
    {
     "name": "stdout",
     "output_type": "stream",
     "text": [
      "dict_keys(['name', 'age', 'language', 'skills', 'country', 'address'])\n"
     ]
    }
   ],
   "source": [
    "print(info.keys())"
   ]
  },
  {
   "cell_type": "code",
   "execution_count": 12,
   "metadata": {},
   "outputs": [
    {
     "name": "stdout",
     "output_type": "stream",
     "text": [
      "dict_values(['python', 21, 'hindi', ['linux', 'python', 'r', 'sql'], 'india', 'jaipur'])\n"
     ]
    }
   ],
   "source": [
    "print(info.values())"
   ]
  },
  {
   "cell_type": "code",
   "execution_count": 13,
   "metadata": {},
   "outputs": [
    {
     "name": "stdout",
     "output_type": "stream",
     "text": [
      "dict_items([('name', 'python'), ('age', 21), ('language', 'hindi'), ('skills', ['linux', 'python', 'r', 'sql']), ('country', 'india'), ('address', 'jaipur')])\n"
     ]
    }
   ],
   "source": [
    "print(info.items())"
   ]
  },
  {
   "cell_type": "code",
   "execution_count": 49,
   "metadata": {},
   "outputs": [
    {
     "name": "stdout",
     "output_type": "stream",
     "text": [
      "<class 'dict'>\n",
      "{'name': 'Sachin Yadav', 'color': 'fare', 'age': 23, 'qualification': 'B.Tech', 'language': ['c', 'c++', 'Java', 'Python'], 'bloodgroup': 'B+ive'}\n",
      "Name :  Sachin Yadav\n"
     ]
    }
   ],
   "source": [
    "sachin = { \n",
    "    \"name\" : \"Sachin Yadav\",\n",
    "    \"color\" : \"fare\",\n",
    "    \"age\" : 23,\n",
    "    \"qualification\" : \"B.Tech\",\n",
    "    \"language\" : [\"c\",\"c++\",\"Java\",\"Python\"],\n",
    "    \"bloodgroup\" : \"B+ive\",\n",
    "}\n",
    "print(type(sachin))\n",
    "print(sachin)\n",
    "print(\"Name : \",sachin['name'])"
   ]
  },
  {
   "cell_type": "markdown",
   "metadata": {
    "collapsed": true
   },
   "source": [
    "# Sets"
   ]
  },
  {
   "cell_type": "code",
   "execution_count": 50,
   "metadata": {},
   "outputs": [
    {
     "name": "stdout",
     "output_type": "stream",
     "text": [
      "<class 'set'>\n",
      "['__and__', '__class__', '__contains__', '__delattr__', '__dir__', '__doc__', '__eq__', '__format__', '__ge__', '__getattribute__', '__gt__', '__hash__', '__iand__', '__init__', '__init_subclass__', '__ior__', '__isub__', '__iter__', '__ixor__', '__le__', '__len__', '__lt__', '__ne__', '__new__', '__or__', '__rand__', '__reduce__', '__reduce_ex__', '__repr__', '__ror__', '__rsub__', '__rxor__', '__setattr__', '__sizeof__', '__str__', '__sub__', '__subclasshook__', '__xor__', 'add', 'clear', 'copy', 'difference', 'difference_update', 'discard', 'intersection', 'intersection_update', 'isdisjoint', 'issubset', 'issuperset', 'pop', 'remove', 'symmetric_difference', 'symmetric_difference_update', 'union', 'update']\n"
     ]
    }
   ],
   "source": [
    "A = { 'Hello',1,5,234,3.14,11,12,13,14 }\n",
    "B = { 'Bye', 'hi', 2, 24,34 , 56}\n",
    "print(type(A))\n",
    "print(dir(A))"
   ]
  },
  {
   "cell_type": "code",
   "execution_count": 51,
   "metadata": {},
   "outputs": [
    {
     "name": "stdout",
     "output_type": "stream",
     "text": [
      "{1}\n"
     ]
    }
   ],
   "source": [
    "s = { 1,1,1,1,1,1,1,}\n",
    "print(s)"
   ]
  },
  {
   "cell_type": "code",
   "execution_count": 52,
   "metadata": {},
   "outputs": [
    {
     "name": "stdout",
     "output_type": "stream",
     "text": [
      "A intersection B =  {11, 12, 13, 14}\n",
      "A union B =  {1, 2, 3.14, 5, 11, 12, 13, 14, 'Bye', 'Hello', 24, 'hi', 34, 234, 56}\n",
      "Difference of A wrt B =  {1, 3.14, 5, 234, 'Hello'}\n"
     ]
    }
   ],
   "source": [
    "A = { 'Hello',1,5,234,3.14,11,12,13,14 }\n",
    "B = { 'Bye', 'hi', 2, 24,34 , 56,11,12,13,14}\n",
    "print(\"A intersection B = \",A.intersection(B))\n",
    "print(\"A union B = \",A.union(B))\n",
    "print(\"Difference of A wrt B = \",A.difference(B))"
   ]
  },
  {
   "cell_type": "code",
   "execution_count": 53,
   "metadata": {},
   "outputs": [
    {
     "name": "stdout",
     "output_type": "stream",
     "text": [
      "Only Hindi Newpaper Readers :  shaid palak pooja\n",
      "Only English Newpaper Readers :  ashish apurva kriti\n",
      "Total Readers are  devansh shaid apurva palak ashish vaihav pooja keshav jayati kriti\n",
      "Total are  10\n"
     ]
    }
   ],
   "source": [
    "hindi = { 'keshav', 'palak', 'pooja','shaid', }\n",
    "english = { 'apurva', 'jayati', 'kriti','ashish',}\n",
    "common = { 'devansh', 'vaihav', 'keshav', 'jayati'}\n",
    "print(\"Only Hindi Newpaper Readers : \",*hindi.difference(common))\n",
    "print(\"Only English Newpaper Readers : \",*english.difference(common))\n",
    "total_readers = hindi.union(english).union(common)\n",
    "print(\"Total Readers are \",*total_readers)\n",
    "print(\"Total are \",len(total_readers))"
   ]
  },
  {
   "cell_type": "markdown",
   "metadata": {},
   "source": [
    "<h1 style='color:green'>Type Conversion</h1>"
   ]
  },
  {
   "cell_type": "code",
   "execution_count": 54,
   "metadata": {},
   "outputs": [
    {
     "name": "stdout",
     "output_type": "stream",
     "text": [
      "12334\n"
     ]
    }
   ],
   "source": [
    "#integer function \n",
    "# only string that contain a number can be converted into integer\n",
    "k = '            12334    '\n",
    "x = int(k)\n",
    "print(x)"
   ]
  },
  {
   "cell_type": "code",
   "execution_count": 55,
   "metadata": {},
   "outputs": [
    {
     "name": "stdout",
     "output_type": "stream",
     "text": [
      "2\n",
      "12321321\n"
     ]
    }
   ],
   "source": [
    "print(int(2.45))\n",
    "#print(int(3.0+5.7j)) complex change nhi hoga\n",
    "print(int('     12321321   ')) # Decimal number in string can be converted into int\n",
    "#print(int('1.23')) only decimal no allowed in int\n"
   ]
  },
  {
   "cell_type": "code",
   "execution_count": 56,
   "metadata": {},
   "outputs": [
    {
     "name": "stdout",
     "output_type": "stream",
     "text": [
      "2730\n"
     ]
    }
   ],
   "source": [
    "print(int('0101010101010',2))"
   ]
  },
  {
   "cell_type": "code",
   "execution_count": 57,
   "metadata": {},
   "outputs": [
    {
     "data": {
      "text/plain": [
       "101010101010"
      ]
     },
     "execution_count": 57,
     "metadata": {},
     "output_type": "execute_result"
    }
   ],
   "source": [
    "int('0101010101010')"
   ]
  },
  {
   "cell_type": "code",
   "execution_count": 58,
   "metadata": {},
   "outputs": [
    {
     "name": "stdout",
     "output_type": "stream",
     "text": [
      "22001747\n"
     ]
    }
   ],
   "source": [
    "y = int('123734123',8)\n",
    "print(y)"
   ]
  },
  {
   "cell_type": "code",
   "execution_count": 59,
   "metadata": {},
   "outputs": [
    {
     "name": "stdout",
     "output_type": "stream",
     "text": [
      "11259375\n"
     ]
    }
   ],
   "source": [
    "z = int('ABCDEF',16)\n",
    "print(z)"
   ]
  },
  {
   "cell_type": "code",
   "execution_count": 60,
   "metadata": {},
   "outputs": [
    {
     "name": "stdout",
     "output_type": "stream",
     "text": [
      "0b11001\n"
     ]
    }
   ],
   "source": [
    "x = bin(25)\n",
    "print(x)"
   ]
  },
  {
   "cell_type": "code",
   "execution_count": 61,
   "metadata": {},
   "outputs": [
    {
     "name": "stdout",
     "output_type": "stream",
     "text": [
      "0o156725\n"
     ]
    }
   ],
   "source": [
    "x = oct(56789)\n",
    "print(x)"
   ]
  },
  {
   "cell_type": "code",
   "execution_count": 62,
   "metadata": {},
   "outputs": [
    {
     "name": "stdout",
     "output_type": "stream",
     "text": [
      "0x2e0523fbc\n"
     ]
    }
   ],
   "source": [
    "x = hex(12353421244)\n",
    "print(x)"
   ]
  },
  {
   "cell_type": "code",
   "execution_count": 63,
   "metadata": {},
   "outputs": [
    {
     "name": "stdout",
     "output_type": "stream",
     "text": [
      "Z\n"
     ]
    }
   ],
   "source": [
    "c = chr(90)\n",
    "print(c)"
   ]
  },
  {
   "cell_type": "code",
   "execution_count": 64,
   "metadata": {},
   "outputs": [
    {
     "data": {
      "text/plain": [
       "'त'"
      ]
     },
     "execution_count": 64,
     "metadata": {},
     "output_type": "execute_result"
    }
   ],
   "source": [
    "chr(2340)"
   ]
  },
  {
   "cell_type": "code",
   "execution_count": 66,
   "metadata": {},
   "outputs": [
    {
     "name": "stdout",
     "output_type": "stream",
     "text": [
      "['ࣼ', 'ࣽ', 'ࣾ', 'ࣿ', 'ऀ', 'ँ', 'ं', 'ः', 'ऄ', 'अ', 'आ', 'इ', 'ई', 'उ', 'ऊ', 'ऋ', 'ऌ', 'ऍ', 'ऎ', 'ए', 'ऐ', 'ऑ', 'ऒ', 'ओ', 'औ', 'क', 'ख', 'ग', 'घ', 'ङ', 'च', 'छ', 'ज', 'झ', 'ञ', 'ट', 'ठ', 'ड', 'ढ', 'ण', 'त', 'थ', 'द', 'ध', 'न', 'ऩ', 'प', 'फ', 'ब', 'भ', 'म', 'य', 'र', 'ऱ', 'ल', 'ळ', 'ऴ', 'व', 'श', 'ष', 'स', 'ह', 'ऺ', 'ऻ', '़', 'ऽ', 'ा', 'ि', 'ी', 'ु', 'ू', 'ृ', 'ॄ', 'ॅ', 'ॆ', 'े', 'ै', 'ॉ', 'ॊ', 'ो', 'ौ', '्', 'ॎ', 'ॏ', 'ॐ', '॑', '॒', '॓', '॔', 'ॕ', 'ॖ', 'ॗ', 'क़', 'ख़', 'ग़', 'ज़', 'ड़', 'ढ़', 'फ़', 'य़', 'ॠ', 'ॡ', 'ॢ', 'ॣ', '।', '॥', '०', '१', '२', '३', '४', '५', '६', '७', '८', '९', '॰', 'ॱ', 'ॲ', 'ॳ', 'ॴ', 'ॵ', 'ॶ', 'ॷ', 'ॸ', 'ॹ', 'ॺ', 'ॻ', 'ॼ', 'ॽ', 'ॾ', 'ॿ', 'ঀ', 'ঁ', 'ং', 'ঃ', '\\u0984', 'অ', 'আ', 'ই', 'ঈ', 'উ', 'ঊ', 'ঋ', 'ঌ', '\\u098d', '\\u098e', 'এ', 'ঐ', '\\u0991']\n"
     ]
    }
   ],
   "source": [
    "print([ chr(var) for var in range(2300,2450)])"
   ]
  },
  {
   "cell_type": "code",
   "execution_count": 67,
   "metadata": {},
   "outputs": [
    {
     "name": "stdout",
     "output_type": "stream",
     "text": [
      "28734 [34, 34, 34, 343] {'one': 1, 'two': 2}\n"
     ]
    }
   ],
   "source": [
    "#conversion to strings\n",
    "x = str(28734)\n",
    "y = str([34,34,34,343,])\n",
    "z = str({'one':1,'two':2})\n",
    "print(x,y,z)"
   ]
  },
  {
   "cell_type": "code",
   "execution_count": 68,
   "metadata": {},
   "outputs": [
    {
     "name": "stdout",
     "output_type": "stream",
     "text": [
      "['p', 'y', 't', 'h', 'o', 'n']\n"
     ]
    }
   ],
   "source": [
    "#list(seq)\n",
    "x = list('python')\n",
    "print(x)"
   ]
  },
  {
   "cell_type": "code",
   "execution_count": 69,
   "metadata": {},
   "outputs": [
    {
     "name": "stdout",
     "output_type": "stream",
     "text": [
      "[1, 2, 3, 4, 5, 6]\n"
     ]
    }
   ],
   "source": [
    "y = list((1,2,3,4,5,6))\n",
    "print(y)"
   ]
  },
  {
   "cell_type": "code",
   "execution_count": 70,
   "metadata": {},
   "outputs": [
    {
     "name": "stdout",
     "output_type": "stream",
     "text": [
      "['h', 'a', 'x']\n"
     ]
    }
   ],
   "source": [
    "d = { 'h':'i','a':'b','x':'z'}\n",
    "z = list(d)\n",
    "print(z)"
   ]
  },
  {
   "cell_type": "code",
   "execution_count": 71,
   "metadata": {},
   "outputs": [
    {
     "name": "stdout",
     "output_type": "stream",
     "text": [
      "[('h', 'i'), ('a', 'b'), ('x', 'z')]\n"
     ]
    }
   ],
   "source": [
    "a = list(d.items())\n",
    "print(a)"
   ]
  },
  {
   "cell_type": "code",
   "execution_count": 72,
   "metadata": {},
   "outputs": [
    {
     "name": "stdout",
     "output_type": "stream",
     "text": [
      "('h', 'a', 'x')\n"
     ]
    }
   ],
   "source": [
    "z = tuple(d)\n",
    "print(z)"
   ]
  },
  {
   "cell_type": "code",
   "execution_count": 73,
   "metadata": {},
   "outputs": [
    {
     "name": "stdout",
     "output_type": "stream",
     "text": [
      "{'hi': 'hello', 'bye': 'bye bye', 'one': 1}\n"
     ]
    }
   ],
   "source": [
    "l = [ ('hi','hello'),('bye','bye bye'),('one',1)]\n",
    "x = dict(l)\n",
    "print(x)"
   ]
  },
  {
   "cell_type": "code",
   "execution_count": 74,
   "metadata": {},
   "outputs": [],
   "source": [
    "A = set(x)"
   ]
  },
  {
   "cell_type": "code",
   "execution_count": 75,
   "metadata": {},
   "outputs": [
    {
     "name": "stdout",
     "output_type": "stream",
     "text": [
      "{'bye', 'hi', 'one'}\n"
     ]
    }
   ],
   "source": [
    "print(A)"
   ]
  },
  {
   "cell_type": "code",
   "execution_count": 76,
   "metadata": {},
   "outputs": [
    {
     "name": "stdout",
     "output_type": "stream",
     "text": [
      "{'r', 'f', 's', 'k', 'w', 'e', 'y', 'q', 'j', 'i', 'l', 'h', 'a', 'd', 'u'}\n"
     ]
    }
   ],
   "source": [
    "x = set('aksjfakljdhfjkldhsuewyrqiuweyriuhdfkjhsdjuiweyruihfkjlshjskauewyriudsahkhfaiuweyrihfkjs')\n",
    "print(x)"
   ]
  },
  {
   "cell_type": "code",
   "execution_count": null,
   "metadata": {},
   "outputs": [],
   "source": []
  },
  {
   "cell_type": "code",
   "execution_count": null,
   "metadata": {},
   "outputs": [],
   "source": []
  }
 ],
 "metadata": {
  "kernelspec": {
   "display_name": "Python 3",
   "language": "python",
   "name": "python3"
  },
  "language_info": {
   "codemirror_mode": {
    "name": "ipython",
    "version": 3
   },
   "file_extension": ".py",
   "mimetype": "text/x-python",
   "name": "python",
   "nbconvert_exporter": "python",
   "pygments_lexer": "ipython3",
   "version": "3.7.1"
  }
 },
 "nbformat": 4,
 "nbformat_minor": 2
}
