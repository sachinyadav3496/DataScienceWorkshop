{
 "cells": [
  {
   "cell_type": "markdown",
   "metadata": {},
   "source": [
    "# Control Statements"
   ]
  },
  {
   "cell_type": "raw",
   "metadata": {},
   "source": [
    "syntax \n",
    "if condition : (: is defined as indentation operator used define block of code)\n",
    "    \n",
    "    statement-1\n",
    "    statement-2\n",
    "       \"\"\"\n",
    "       \"\"\"\n",
    "    statement-n\n",
    "\n",
    "else :\n",
    "    \n",
    "    statement-1\n",
    "    statement-2\n",
    "       \"\"\"\n",
    "       \"\"\"\n",
    "    statement-n"
   ]
  },
  {
   "cell_type": "markdown",
   "metadata": {},
   "source": [
    "#### EVEN ODD\n"
   ]
  },
  {
   "cell_type": "code",
   "execution_count": 1,
   "metadata": {},
   "outputs": [
    {
     "name": "stdout",
     "output_type": "stream",
     "text": [
      "Enter a number : 55\n",
      "Odd\n"
     ]
    }
   ],
   "source": [
    "\n",
    "x = int(input(\"Enter a number : \"))\n",
    "if x % 2 == 0 :\n",
    "    print(\"Even\")\n",
    "else : \n",
    "    print(\"Odd\")\n",
    "    \n",
    "    "
   ]
  },
  {
   "cell_type": "markdown",
   "metadata": {},
   "source": [
    "#### Greatest among Three numbers \n"
   ]
  },
  {
   "cell_type": "code",
   "execution_count": 5,
   "metadata": {},
   "outputs": [
    {
     "name": "stdout",
     "output_type": "stream",
     "text": [
      "A : 4\n",
      "B : 8\n",
      "C : 0\n",
      "B is Greatest\n"
     ]
    }
   ],
   "source": [
    "a = int(input(\"A : \"))\n",
    "b = int(input(\"B : \"))\n",
    "c = int(input(\"C : \"))\n",
    "\n",
    "if a >= b :\n",
    "    if a >= c :\n",
    "        print(\"A is greatest \")\n",
    "    else :\n",
    "        print(\"C is greatest \")\n",
    "elif b >= c :\n",
    "    print(\"B is Greatest\")\n",
    "\n",
    "else :\n",
    "    print(\"C is Greatest \")"
   ]
  },
  {
   "cell_type": "code",
   "execution_count": 1,
   "metadata": {},
   "outputs": [
    {
     "name": "stdout",
     "output_type": "stream",
     "text": [
      "A : 15\n",
      "B : 66\n",
      "C : 78\n",
      "C is Greatest\n"
     ]
    }
   ],
   "source": [
    "a = int(input(\"A : \"))\n",
    "b = int(input(\"B : \"))\n",
    "c = int(input(\"C : \"))\n",
    "if a >= b and a >= c :\n",
    "    print(\"A is Greatest\")\n",
    "elif b >= c :\n",
    "    print(\"B is Greatest\")\n",
    "else :\n",
    "    print(\"C is Greatest\")"
   ]
  },
  {
   "cell_type": "markdown",
   "metadata": {
    "collapsed": true
   },
   "source": [
    "#### Loan Decision\n",
    "\n",
    "* if job is government and salary is above 50000 provide loan else do not \n",
    "* if job is business and turn_over is above 200000 provide loan else do not\n",
    "* if job is private deny for loan "
   ]
  },
  {
   "cell_type": "code",
   "execution_count": 3,
   "metadata": {},
   "outputs": [
    {
     "name": "stdout",
     "output_type": "stream",
     "text": [
      "Enter your Profession : private\n",
      "Bhaag Jha Yha se Koi Loan Nh Milega\n"
     ]
    }
   ],
   "source": [
    "profession = input(\"Enter your Profession : \").strip().lower()\n",
    "if profession == \"government\" : \n",
    "    salary  = float(input(\"Enter your salary : \"))\n",
    "    if salary >= 50000 : \n",
    "        print(\"Sumit Your Documents...We will Process Shortly\")\n",
    "    else : \n",
    "        print(\"Tumse Na Ho Payega\")\n",
    "elif profession == \"business\" : \n",
    "    turn_over = float(input(\"Enter your Yearly Trun Over : \"))\n",
    "    if turn_over >= 2000000 : \n",
    "        print(\"We will Process your Request Shortly\")\n",
    "    else : \n",
    "        print(\"Bhikhariya ko Loan Nh Diya Jata\")\n",
    "else : \n",
    "    print(\"Bhaag Jha Yha se Koi Loan Nh Milega\")"
   ]
  },
  {
   "cell_type": "code",
   "execution_count": 4,
   "metadata": {},
   "outputs": [],
   "source": [
    "import re"
   ]
  },
  {
   "cell_type": "markdown",
   "metadata": {},
   "source": [
    "## Task to do for girls ? "
   ]
  },
  {
   "cell_type": "code",
   "execution_count": null,
   "metadata": {},
   "outputs": [],
   "source": []
  },
  {
   "cell_type": "markdown",
   "metadata": {},
   "source": [
    "#### Decide  should you make him bf or not\n",
    "\n",
    "* how he looks ?  ugly, average, handsome \n",
    "* how is his shoes ?  local, copy, branded\n",
    "* how is his nature ? loyal, partyboy, egoist, chipku\n",
    "* how much he earns  ? low, medium, high\n",
    "\n",
    "#### if all suited to your preferences make him bf  else friendzone him"
   ]
  },
  {
   "cell_type": "code",
   "execution_count": null,
   "metadata": {},
   "outputs": [],
   "source": []
  }
 ],
 "metadata": {
  "kernelspec": {
   "display_name": "Python 3",
   "language": "python",
   "name": "python3"
  },
  "language_info": {
   "codemirror_mode": {
    "name": "ipython",
    "version": 3
   },
   "file_extension": ".py",
   "mimetype": "text/x-python",
   "name": "python",
   "nbconvert_exporter": "python",
   "pygments_lexer": "ipython3",
   "version": "3.7.1"
  }
 },
 "nbformat": 4,
 "nbformat_minor": 2
}
