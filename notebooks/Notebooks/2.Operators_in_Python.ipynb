{
 "cells": [
  {
   "cell_type": "markdown",
   "metadata": {},
   "source": [
    "<h1 style='color:red'>Operators In Python</h1>"
   ]
  },
  {
   "cell_type": "markdown",
   "metadata": {},
   "source": [
    "1. Arithmatic Operators ( +, -, \\* , /, %, //, \\** )\n",
    "2. Comparision Operators ( <, >, <=, >=, ==, != )\n",
    "3. Logical Operators ( and, or, not )\n",
    "4. Assignment Operator ( = )\n",
    "5. Membership Operator ( in, not in )\n",
    "6. Identity Operator ( is, is not )\n",
    "7. Binary Operator  ( ~, <<, >>, ^, &, | )"
   ]
  },
  {
   "cell_type": "markdown",
   "metadata": {},
   "source": [
    "1. Airthmatic Operator\n",
    "\n",
    "<p>\n",
    "a) addition + <br/>\n",
    "b) substraction - <br />\n",
    "c) multiplication \\* <br />\n",
    "d) absolute division / <br />\n",
    "e) modulas operator % <br />\n",
    "f) inter division or floor division // <br />\n",
    "g) power or exponent \\** <br />\n",
    "<p>"
   ]
  },
  {
   "cell_type": "markdown",
   "metadata": {},
   "source": [
    "#### Addition ( Binary Operator )\n"
   ]
  },
  {
   "cell_type": "code",
   "execution_count": 1,
   "metadata": {},
   "outputs": [
    {
     "name": "stdout",
     "output_type": "stream",
     "text": [
      "15\n"
     ]
    }
   ],
   "source": [
    "x = 5\n",
    "y = 10\n",
    "print(x+y)"
   ]
  },
  {
   "cell_type": "code",
   "execution_count": 2,
   "metadata": {},
   "outputs": [
    {
     "name": "stdout",
     "output_type": "stream",
     "text": [
      "hello world\n"
     ]
    }
   ],
   "source": [
    "s1 = \"hello \"\n",
    "s2 = \"world\"\n",
    "print(s1+s2)"
   ]
  },
  {
   "cell_type": "markdown",
   "metadata": {},
   "source": [
    "#### Substraction operator\n"
   ]
  },
  {
   "cell_type": "code",
   "execution_count": 9,
   "metadata": {},
   "outputs": [
    {
     "name": "stdout",
     "output_type": "stream",
     "text": [
      "3\n",
      "7\n",
      "-4\n"
     ]
    }
   ],
   "source": [
    "x = 3\n",
    "y = 7 \n",
    "print(x)\n",
    "print(y)\n",
    "z = x - y \n",
    "print(z)"
   ]
  },
  {
   "cell_type": "code",
   "execution_count": 10,
   "metadata": {},
   "outputs": [
    {
     "name": "stdout",
     "output_type": "stream",
     "text": [
      "(10.65+6.2j)\n"
     ]
    }
   ],
   "source": [
    "x = 3\n",
    "y = 3.15\n",
    "z = 4.5+6.2j\n",
    "print(x+y+z)"
   ]
  },
  {
   "cell_type": "markdown",
   "metadata": {},
   "source": [
    "#### multiplication"
   ]
  },
  {
   "cell_type": "code",
   "execution_count": 12,
   "metadata": {},
   "outputs": [
    {
     "name": "stdout",
     "output_type": "stream",
     "text": [
      "(7.536+10.799999999999999j)\n"
     ]
    }
   ],
   "source": [
    "\n",
    "x = 1\n",
    "y = 2.4\n",
    "z = 3.14+4.5j\n",
    "r = x*y*z\n",
    "print(r)"
   ]
  },
  {
   "cell_type": "markdown",
   "metadata": {},
   "source": [
    "#### absolute division /"
   ]
  },
  {
   "cell_type": "code",
   "execution_count": 1,
   "metadata": {},
   "outputs": [
    {
     "name": "stdout",
     "output_type": "stream",
     "text": [
      "3.142857142857143\n",
      "3\n"
     ]
    }
   ],
   "source": [
    "x = 22\n",
    "y = 7\n",
    "z = x/y\n",
    "print(z)\n",
    "print(round(z))"
   ]
  },
  {
   "cell_type": "code",
   "execution_count": 15,
   "metadata": {},
   "outputs": [
    {
     "name": "stdout",
     "output_type": "stream",
     "text": [
      "4\n"
     ]
    }
   ],
   "source": [
    "x = 3.7\n",
    "print(round(x))"
   ]
  },
  {
   "cell_type": "markdown",
   "metadata": {},
   "source": [
    "#### modulas operator ( remainder )\n"
   ]
  },
  {
   "cell_type": "code",
   "execution_count": 1,
   "metadata": {},
   "outputs": [
    {
     "name": "stdout",
     "output_type": "stream",
     "text": [
      "5\n"
     ]
    }
   ],
   "source": [
    "x = 26 % 7 \n",
    "print(x)"
   ]
  },
  {
   "cell_type": "markdown",
   "metadata": {},
   "source": [
    "#### floor division (quotient on remainder) //\n"
   ]
  },
  {
   "cell_type": "code",
   "execution_count": 2,
   "metadata": {},
   "outputs": [
    {
     "name": "stdout",
     "output_type": "stream",
     "text": [
      "3\n"
     ]
    }
   ],
   "source": [
    "# floor division is used to provide integer division\n",
    "x = 10 // 3\n",
    "print(x)"
   ]
  },
  {
   "cell_type": "markdown",
   "metadata": {},
   "source": [
    "#### exponent **\n"
   ]
  },
  {
   "cell_type": "code",
   "execution_count": 3,
   "metadata": {},
   "outputs": [
    {
     "name": "stdout",
     "output_type": "stream",
     "text": [
      "16\n"
     ]
    }
   ],
   "source": [
    "# x ** y -> x to the power y\n",
    "x = 2 ** 4 \n",
    "print(x)"
   ]
  },
  {
   "cell_type": "code",
   "execution_count": 4,
   "metadata": {},
   "outputs": [
    {
     "name": "stdout",
     "output_type": "stream",
     "text": [
      "26\n"
     ]
    }
   ],
   "source": [
    "x = 5*6-23%3*2 #30-23%6 #30-5 # 25\n",
    "print(x)\n"
   ]
  },
  {
   "cell_type": "code",
   "execution_count": 5,
   "metadata": {},
   "outputs": [
    {
     "name": "stdout",
     "output_type": "stream",
     "text": [
      "10\n"
     ]
    }
   ],
   "source": [
    "x = 7 ---- 3\n",
    "print(x)"
   ]
  },
  {
   "cell_type": "code",
   "execution_count": 6,
   "metadata": {},
   "outputs": [
    {
     "data": {
      "text/plain": [
       "'sachin sachin sachin sachin sachin '"
      ]
     },
     "execution_count": 6,
     "metadata": {},
     "output_type": "execute_result"
    }
   ],
   "source": [
    "\"sachin \"*5"
   ]
  },
  {
   "cell_type": "code",
   "execution_count": 7,
   "metadata": {},
   "outputs": [
    {
     "name": "stdout",
     "output_type": "stream",
     "text": [
      "************************************************************\n",
      "************************************************************\n",
      "\n",
      "                        Hello World                         \n",
      "\n",
      "************************************************************\n",
      "************************************************************\n"
     ]
    }
   ],
   "source": [
    "print(\"*\"*60) # repeationg\n",
    "print(\"*\"*60)\n",
    "print()\n",
    "print(\"Hello World\".center(60))\n",
    "print()\n",
    "print(\"*\"*60)\n",
    "print(\"*\"*60)"
   ]
  },
  {
   "cell_type": "markdown",
   "metadata": {},
   "source": [
    "<h1 style='color:#123456'>Comparison Operator"
   ]
  },
  {
   "cell_type": "code",
   "execution_count": 2,
   "metadata": {},
   "outputs": [
    {
     "name": "stdout",
     "output_type": "stream",
     "text": [
      "True\n",
      "False\n",
      "\n",
      "False\n",
      "False\n",
      "True\n"
     ]
    }
   ],
   "source": [
    "\n",
    "print(4<5)\n",
    "print(5<4)\n",
    "print()\n",
    "print(4<4)\n",
    "print(5>5)\n",
    "print(5==5)\n"
   ]
  },
  {
   "cell_type": "code",
   "execution_count": 54,
   "metadata": {},
   "outputs": [
    {
     "name": "stdout",
     "output_type": "stream",
     "text": [
      "True\n",
      "True\n"
     ]
    }
   ],
   "source": [
    "print(4>=4)\n",
    "print(4!=5)"
   ]
  },
  {
   "cell_type": "markdown",
   "metadata": {},
   "source": [
    "# Logical Operator"
   ]
  },
  {
   "cell_type": "code",
   "execution_count": 8,
   "metadata": {},
   "outputs": [
    {
     "name": "stdout",
     "output_type": "stream",
     "text": [
      "57\n",
      "0\n",
      "None\n",
      "None\n"
     ]
    }
   ],
   "source": [
    "# and , or , not ( unary operator )\n",
    "#op1 and op2\n",
    "# False -> None, 0, False, Any Empty Object\n",
    "print(45 and 57)\n",
    "print(0 and 57)\n",
    "print(None and 'hello')\n",
    "print(None and 0)"
   ]
  },
  {
   "cell_type": "code",
   "execution_count": 9,
   "metadata": {},
   "outputs": [
    {
     "name": "stdout",
     "output_type": "stream",
     "text": [
      "\top1\top2\tand\tor\n",
      "\n",
      "\tTrue\tFalse\tFalse\tTrue\n",
      "\tTrue\tTrue\tTrue\tTrue\n",
      "\tFalse\tTrue\tFalse\tTrue\n",
      "\tFalse\tFalse\tFalse\tFalse\n"
     ]
    }
   ],
   "source": [
    "#Truth table for and operatiorn\n",
    "print(\"\\top1\\top2\\tand\\tor\")\n",
    "print()\n",
    "x = True\n",
    "y = False\n",
    "print(\"\\t{}\\t{}\\t{}\\t{}\".format(x,y,x and y, x or y))\n",
    "print(\"\\t{}\\t{}\\t{}\\t{}\".format(x,x,x and x, x or x))\n",
    "print(\"\\t{}\\t{}\\t{}\\t{}\".format(y,x,y and x, y or x))\n",
    "print(\"\\t{}\\t{}\\t{}\\t{}\".format(y,y,y and y, y or y))"
   ]
  },
  {
   "cell_type": "markdown",
   "metadata": {},
   "source": [
    "#### Assignment o/p\n"
   ]
  },
  {
   "cell_type": "code",
   "execution_count": 10,
   "metadata": {},
   "outputs": [
    {
     "name": "stdout",
     "output_type": "stream",
     "text": [
      "True\n"
     ]
    }
   ],
   "source": [
    "#Assign value of right side operand left side operand \n",
    "x = 10\n",
    "y = 1\n",
    "z = 3\n",
    "r = ( x+5**y/z*3-x*z ) and ( 5<6 or 7>=6 )\n",
    "print(r)"
   ]
  },
  {
   "cell_type": "code",
   "execution_count": 13,
   "metadata": {},
   "outputs": [
    {
     "name": "stdout",
     "output_type": "stream",
     "text": [
      "27\n"
     ]
    }
   ],
   "source": [
    "x = 3\n",
    "x **= 3\n",
    "print(x)"
   ]
  },
  {
   "cell_type": "markdown",
   "metadata": {},
   "source": [
    "<h1 style='color:red'>MemberShip Operator</h1>"
   ]
  },
  {
   "cell_type": "code",
   "execution_count": 14,
   "metadata": {},
   "outputs": [
    {
     "name": "stdout",
     "output_type": "stream",
     "text": [
      "True\n",
      "False\n"
     ]
    }
   ],
   "source": [
    "#in or not in\n",
    "#only used with sequence (string, list, tuple, dictionary, set, other iterator objects)\n",
    "s = \"Hello World\"\n",
    "k = 'ell'\n",
    "x = k in s \n",
    "print(x)\n",
    "y = 'hello' in s\n",
    "print(y)"
   ]
  },
  {
   "cell_type": "code",
   "execution_count": 6,
   "metadata": {},
   "outputs": [
    {
     "name": "stdout",
     "output_type": "stream",
     "text": [
      "False\n",
      "False\n",
      "True\n"
     ]
    }
   ],
   "source": [
    "list1 = [ 1,2,3,4,5,'hello','hi']\n",
    "list2 = [ 1,2,3]\n",
    "print(list1 in list2)\n",
    "print(list2 in list1)\n",
    "x = 'hello' in list1\n",
    "print(x)"
   ]
  }
 ],
 "metadata": {
  "kernelspec": {
   "display_name": "Python 3",
   "language": "python",
   "name": "python3"
  },
  "language_info": {
   "codemirror_mode": {
    "name": "ipython",
    "version": 3
   },
   "file_extension": ".py",
   "mimetype": "text/x-python",
   "name": "python",
   "nbconvert_exporter": "python",
   "pygments_lexer": "ipython3",
   "version": "3.7.1"
  }
 },
 "nbformat": 4,
 "nbformat_minor": 2
}
